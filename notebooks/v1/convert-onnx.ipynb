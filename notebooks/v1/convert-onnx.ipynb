{
 "cells": [
  {
   "cell_type": "code",
   "execution_count": 1,
   "id": "a2ddb941-e961-4a6b-939e-c69af24a030d",
   "metadata": {
    "execution": {
     "iopub.execute_input": "2023-02-17T10:20:12.939847Z",
     "iopub.status.busy": "2023-02-17T10:20:12.939240Z",
     "iopub.status.idle": "2023-02-17T10:20:13.133297Z",
     "shell.execute_reply": "2023-02-17T10:20:13.132668Z"
    },
    "papermill": {
     "duration": 0.199006,
     "end_time": "2023-02-17T10:20:13.135694",
     "exception": false,
     "start_time": "2023-02-17T10:20:12.936688",
     "status": "completed"
    },
    "tags": []
   },
   "outputs": [],
   "source": [
    "import boto3\n",
    "import os\n",
    "\n",
    "key_id = os.environ.get(\"AWS_ACCESS_KEY_ID\")\n",
    "secret_key = os.environ.get(\"AWS_SECRET_ACCESS_KEY\")\n",
    "bucket_name = os.environ.get(\"AWS_S3_BUCKET\")\n",
    "s3_endpoint = os.environ.get(\"AWS_S3_ENDPOINT\")\n",
    "\n",
    "s3_client = boto3.client(\"s3\", aws_access_key_id=key_id, aws_secret_access_key=secret_key, endpoint_url=s3_endpoint)"
   ]
  },
  {
   "cell_type": "code",
   "execution_count": 2,
   "id": "b1806c5a-2699-4c6d-85c4-3905a22ce2d8",
   "metadata": {
    "execution": {
     "iopub.execute_input": "2023-02-17T10:20:13.141214Z",
     "iopub.status.busy": "2023-02-17T10:20:13.140908Z",
     "iopub.status.idle": "2023-02-17T10:20:13.862274Z",
     "shell.execute_reply": "2023-02-17T10:20:13.861530Z"
    },
    "papermill": {
     "duration": 0.726354,
     "end_time": "2023-02-17T10:20:13.864649",
     "exception": false,
     "start_time": "2023-02-17T10:20:13.138295",
     "status": "completed"
    },
    "tags": []
   },
   "outputs": [
    {
     "name": "stdout",
     "output_type": "stream",
     "text": [
      "mkdir: cannot create directory ‘model’: File exists\r\n"
     ]
    }
   ],
   "source": [
    "! mkdir model\n",
    "s3_client.download_file(bucket_name, \"/model/MLP_Keras_e19.h5\", './model/model.h5')"
   ]
  },
  {
   "cell_type": "code",
   "execution_count": 3,
   "id": "81b34998-bef6-462e-bf84-249280d8428b",
   "metadata": {
    "execution": {
     "iopub.execute_input": "2023-02-17T10:20:13.868715Z",
     "iopub.status.busy": "2023-02-17T10:20:13.868405Z",
     "iopub.status.idle": "2023-02-17T10:20:21.974227Z",
     "shell.execute_reply": "2023-02-17T10:20:21.973433Z"
    },
    "papermill": {
     "duration": 8.10992,
     "end_time": "2023-02-17T10:20:21.976171",
     "exception": false,
     "start_time": "2023-02-17T10:20:13.866251",
     "status": "completed"
    },
    "tags": []
   },
   "outputs": [
    {
     "name": "stdout",
     "output_type": "stream",
     "text": [
      "Requirement already satisfied: tf2onnx in /opt/app-root/lib/python3.9/site-packages (1.13.0)\r\n",
      "Requirement already satisfied: flatbuffers<3.0,>=1.12 in /opt/app-root/lib/python3.9/site-packages (from tf2onnx) (2.0.7)\r\n",
      "Requirement already satisfied: numpy>=1.14.1 in /opt/app-root/lib/python3.9/site-packages (from tf2onnx) (1.24.1)\r\n",
      "Requirement already satisfied: requests in /opt/app-root/lib/python3.9/site-packages (from tf2onnx) (2.28.2)\r\n",
      "Requirement already satisfied: six in /opt/app-root/lib/python3.9/site-packages (from tf2onnx) (1.16.0)\r\n",
      "Requirement already satisfied: onnx>=1.4.1 in /opt/app-root/lib/python3.9/site-packages (from tf2onnx) (1.13.0)\r\n"
     ]
    },
    {
     "name": "stdout",
     "output_type": "stream",
     "text": [
      "Requirement already satisfied: typing-extensions>=3.6.2.1 in /opt/app-root/lib/python3.9/site-packages (from onnx>=1.4.1->tf2onnx) (4.4.0)\r\n"
     ]
    },
    {
     "name": "stdout",
     "output_type": "stream",
     "text": [
      "Collecting protobuf<4,>=3.20.2\r\n"
     ]
    },
    {
     "name": "stdout",
     "output_type": "stream",
     "text": [
      "  Downloading protobuf-3.20.3-cp39-cp39-manylinux_2_5_x86_64.manylinux1_x86_64.whl (1.0 MB)\r\n",
      "\u001b[?25l     \u001b[90m━━━━━━━━━━━━━━━━━━━━━━━━━━━━━━━━━━━━━━━━\u001b[0m \u001b[32m0.0/1.0 MB\u001b[0m \u001b[31m?\u001b[0m eta \u001b[36m-:--:--\u001b[0m"
     ]
    },
    {
     "name": "stdout",
     "output_type": "stream",
     "text": [
      "\r",
      "\u001b[2K     \u001b[91m━━━━━━━━━━━━━━━━━━━━\u001b[0m\u001b[91m╸\u001b[0m\u001b[90m━━━━━━━━━━━━━━━━━━━\u001b[0m \u001b[32m0.5/1.0 MB\u001b[0m \u001b[31m15.7 MB/s\u001b[0m eta \u001b[36m0:00:01\u001b[0m\r",
      "\u001b[2K     \u001b[90m━━━━━━━━━━━━━━━━━━━━━━━━━━━━━━━━━━━━━━━━\u001b[0m \u001b[32m1.0/1.0 MB\u001b[0m \u001b[31m27.6 MB/s\u001b[0m eta \u001b[36m0:00:00\u001b[0m\r\n",
      "\u001b[?25hRequirement already satisfied: certifi>=2017.4.17 in /opt/app-root/lib/python3.9/site-packages (from requests->tf2onnx) (2022.12.7)\r\n",
      "Requirement already satisfied: idna<4,>=2.5 in /opt/app-root/lib/python3.9/site-packages (from requests->tf2onnx) (3.4)\r\n",
      "Requirement already satisfied: charset-normalizer<4,>=2 in /opt/app-root/lib/python3.9/site-packages (from requests->tf2onnx) (2.1.1)\r\n",
      "Requirement already satisfied: urllib3<1.27,>=1.21.1 in /opt/app-root/lib/python3.9/site-packages (from requests->tf2onnx) (1.26.14)\r\n"
     ]
    },
    {
     "name": "stdout",
     "output_type": "stream",
     "text": [
      "Installing collected packages: protobuf\r\n",
      "  Attempting uninstall: protobuf\r\n",
      "    Found existing installation: protobuf 3.19.6\r\n"
     ]
    },
    {
     "name": "stdout",
     "output_type": "stream",
     "text": [
      "    Uninstalling protobuf-3.19.6:\r\n"
     ]
    },
    {
     "name": "stdout",
     "output_type": "stream",
     "text": [
      "      Successfully uninstalled protobuf-3.19.6\r\n"
     ]
    },
    {
     "name": "stdout",
     "output_type": "stream",
     "text": [
      "\u001b[31mERROR: pip's dependency resolver does not currently take into account all the packages that are installed. This behaviour is the source of the following dependency conflicts.\r\n",
      "tensorflow 2.11.0 requires protobuf<3.20,>=3.9.2, but you have protobuf 3.20.3 which is incompatible.\u001b[0m\u001b[31m\r\n",
      "\u001b[0mSuccessfully installed protobuf-3.20.3\r\n"
     ]
    },
    {
     "name": "stdout",
     "output_type": "stream",
     "text": [
      "2023-02-17 10:20:19.060911: I tensorflow/core/platform/cpu_feature_guard.cc:193] This TensorFlow binary is optimized with oneAPI Deep Neural Network Library (oneDNN) to use the following CPU instructions in performance-critical operations:  AVX2 AVX512F FMA\r\n",
      "To enable them in other operations, rebuild TensorFlow with the appropriate compiler flags.\r\n"
     ]
    },
    {
     "name": "stdout",
     "output_type": "stream",
     "text": [
      "2023-02-17 10:20:19.180236: W tensorflow/compiler/xla/stream_executor/platform/default/dso_loader.cc:64] Could not load dynamic library 'libcudart.so.11.0'; dlerror: libcudart.so.11.0: cannot open shared object file: No such file or directory\r\n",
      "2023-02-17 10:20:19.180275: I tensorflow/compiler/xla/stream_executor/cuda/cudart_stub.cc:29] Ignore above cudart dlerror if you do not have a GPU set up on your machine.\r\n"
     ]
    },
    {
     "name": "stdout",
     "output_type": "stream",
     "text": [
      "2023-02-17 10:20:19.856274: W tensorflow/compiler/xla/stream_executor/platform/default/dso_loader.cc:64] Could not load dynamic library 'libnvinfer.so.7'; dlerror: libnvinfer.so.7: cannot open shared object file: No such file or directory\r\n",
      "2023-02-17 10:20:19.856348: W tensorflow/compiler/xla/stream_executor/platform/default/dso_loader.cc:64] Could not load dynamic library 'libnvinfer_plugin.so.7'; dlerror: libnvinfer_plugin.so.7: cannot open shared object file: No such file or directory\r\n",
      "2023-02-17 10:20:19.856363: W tensorflow/compiler/tf2tensorrt/utils/py_utils.cc:38] TF-TRT Warning: Cannot dlopen some TensorRT libraries. If you would like to use Nvidia GPU with TensorRT, please make sure the missing libraries mentioned above are installed properly.\r\n"
     ]
    },
    {
     "name": "stdout",
     "output_type": "stream",
     "text": [
      "/usr/lib64/python3.9/runpy.py:127: RuntimeWarning: 'tf2onnx.convert' found in sys.modules after import of package 'tf2onnx', but prior to execution of 'tf2onnx.convert'; this may result in unpredictable behaviour\r\n",
      "  warn(RuntimeWarning(msg))\r\n",
      "2023-02-17 10:20:21.181027: W tensorflow/compiler/xla/stream_executor/platform/default/dso_loader.cc:64] Could not load dynamic library 'libcuda.so.1'; dlerror: libcuda.so.1: cannot open shared object file: No such file or directory\r\n",
      "2023-02-17 10:20:21.181061: W tensorflow/compiler/xla/stream_executor/cuda/cuda_driver.cc:265] failed call to cuInit: UNKNOWN ERROR (303)\r\n",
      "2023-02-17 10:20:21.181084: I tensorflow/compiler/xla/stream_executor/cuda/cuda_diagnostics.cc:156] kernel driver does not appear to be running on this host (model-0): /proc/driver/nvidia/version does not exist\r\n",
      "2023-02-17 10:20:21.181340: I tensorflow/core/platform/cpu_feature_guard.cc:193] This TensorFlow binary is optimized with oneAPI Deep Neural Network Library (oneDNN) to use the following CPU instructions in performance-critical operations:  AVX2 AVX512F FMA\r\n",
      "To enable them in other operations, rebuild TensorFlow with the appropriate compiler flags.\r\n",
      "2023-02-17 10:20:21,184 - WARNING - '--tag' not specified for saved_model. Using --tag serve\r\n"
     ]
    },
    {
     "name": "stdout",
     "output_type": "stream",
     "text": [
      "2023-02-17 10:20:21,340 - INFO - Signatures found in model: [serving_default].\r\n",
      "2023-02-17 10:20:21,340 - WARNING - '--signature_def' not specified, using first signature: serving_default\r\n",
      "2023-02-17 10:20:21,340 - INFO - Output names: ['dense_2']\r\n",
      "2023-02-17 10:20:21.341681: I tensorflow/core/grappler/clusters/single_machine.cc:358] Starting new session\r\n"
     ]
    },
    {
     "name": "stdout",
     "output_type": "stream",
     "text": [
      "2023-02-17 10:20:21.397891: I tensorflow/core/grappler/clusters/single_machine.cc:358] Starting new session\r\n"
     ]
    },
    {
     "name": "stdout",
     "output_type": "stream",
     "text": [
      "2023-02-17 10:20:21,419 - INFO - Using tensorflow=2.11.0, onnx=1.13.0, tf2onnx=1.13.0/2c1db5\r\n",
      "2023-02-17 10:20:21,419 - INFO - Using opset <onnx, 13>\r\n",
      "2023-02-17 10:20:21,427 - INFO - Computed 0 values for constant folding\r\n",
      "2023-02-17 10:20:21,437 - INFO - Optimizing ONNX model\r\n"
     ]
    },
    {
     "name": "stdout",
     "output_type": "stream",
     "text": [
      "2023-02-17 10:20:21,472 - INFO - After optimization: Identity -2 (2->0)\r\n",
      "2023-02-17 10:20:21,475 - INFO - \r\n",
      "2023-02-17 10:20:21,475 - INFO - Successfully converted TensorFlow model ./model/saved_model/ to ONNX\r\n",
      "2023-02-17 10:20:21,475 - INFO - Model inputs: ['dense_input']\r\n",
      "2023-02-17 10:20:21,475 - INFO - Model outputs: ['dense_2']\r\n",
      "2023-02-17 10:20:21,475 - INFO - ONNX model is saved at ./model/model.onnx\r\n"
     ]
    }
   ],
   "source": [
    "!pip install tf2onnx\n",
    "!python -m tf2onnx.convert --saved-model ./model/saved_model/ --output ./model/model.onnx --opset 13"
   ]
  },
  {
   "cell_type": "code",
   "execution_count": 4,
   "id": "dc7023d0-9a97-4e9e-ba92-94fcaa825639",
   "metadata": {
    "execution": {
     "iopub.execute_input": "2023-02-17T10:20:21.982193Z",
     "iopub.status.busy": "2023-02-17T10:20:21.981837Z",
     "iopub.status.idle": "2023-02-17T10:20:22.014504Z",
     "shell.execute_reply": "2023-02-17T10:20:22.013914Z"
    },
    "papermill": {
     "duration": 0.037355,
     "end_time": "2023-02-17T10:20:22.015967",
     "exception": false,
     "start_time": "2023-02-17T10:20:21.978612",
     "status": "completed"
    },
    "tags": []
   },
   "outputs": [],
   "source": [
    "s3_client.upload_file(\"./model/model.onnx\", bucket_name, \"/onnx/model.onnx\")"
   ]
  },
  {
   "cell_type": "code",
   "execution_count": 5,
   "id": "6dfb3151-58f2-4639-9783-22c3a98fbcf6",
   "metadata": {
    "execution": {
     "iopub.execute_input": "2023-02-17T10:20:22.021478Z",
     "iopub.status.busy": "2023-02-17T10:20:22.020961Z",
     "iopub.status.idle": "2023-02-17T10:20:22.727058Z",
     "shell.execute_reply": "2023-02-17T10:20:22.726148Z"
    },
    "papermill": {
     "duration": 0.710832,
     "end_time": "2023-02-17T10:20:22.728963",
     "exception": false,
     "start_time": "2023-02-17T10:20:22.018131",
     "status": "completed"
    },
    "tags": []
   },
   "outputs": [],
   "source": [
    "! rm -rf model"
   ]
  }
 ],
 "metadata": {
  "kernelspec": {
   "display_name": "Python 3.9.14",
   "language": "python",
   "name": "python3"
  },
  "language_info": {
   "codemirror_mode": {
    "name": "ipython",
    "version": 3
   },
   "file_extension": ".py",
   "mimetype": "text/x-python",
   "name": "python",
   "nbconvert_exporter": "python",
   "pygments_lexer": "ipython3",
   "version": "3.9.14"
  },
  "papermill": {
   "default_parameters": {},
   "duration": 11.040531,
   "end_time": "2023-02-17T10:20:22.947504",
   "environment_variables": {},
   "exception": null,
   "input_path": "/opt/app-root/src/rhods-mnist/convert-onnx.ipynb",
   "output_path": "/opt/app-root/src/rhods-mnist/convert-onnx.ipynb",
   "parameters": {},
   "start_time": "2023-02-17T10:20:11.906973",
   "version": "2.4.0"
  }
 },
 "nbformat": 4,
 "nbformat_minor": 5
}