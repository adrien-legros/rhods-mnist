{
 "cells": [
  {
   "cell_type": "markdown",
   "id": "0e6e0e24-adc5-434f-a53c-3743c96fe13f",
   "metadata": {
    "papermill": {
     "duration": 0.004892,
     "end_time": "2023-02-17T09:37:47.772307",
     "exception": false,
     "start_time": "2023-02-17T09:37:47.767415",
     "status": "completed"
    },
    "tags": []
   },
   "source": [
    "# Data ingestion"
   ]
  },
  {
   "cell_type": "markdown",
   "id": "454717a0-a71d-4bc4-b882-cfac983630bb",
   "metadata": {
    "papermill": {
     "duration": 0.004818,
     "end_time": "2023-02-17T09:37:47.780977",
     "exception": false,
     "start_time": "2023-02-17T09:37:47.776159",
     "status": "completed"
    },
    "tags": []
   },
   "source": [
    "## Retrieve data from S3"
   ]
  },
  {
   "cell_type": "code",
   "execution_count": 2,
   "id": "041af19e-dd15-4d03-be71-52533364d764",
   "metadata": {
    "papermill": {
     "duration": 4.266394,
     "end_time": "2023-02-17T09:37:52.050743",
     "exception": false,
     "start_time": "2023-02-17T09:37:47.784349",
     "status": "completed"
    },
    "tags": []
   },
   "outputs": [
    {
     "name": "stdout",
     "output_type": "stream",
     "text": [
      "mkdir: cannot create directory ‘data’: File exists\n",
      "mkdir: cannot create directory ‘cleaned’: File exists\n"
     ]
    }
   ],
   "source": [
    "!pip3 install pandas numpy boto3 matplotlib IPython scikit-learn 2>&1> /dev/null\n",
    "!mkdir data\n",
    "!mkdir cleaned"
   ]
  },
  {
   "cell_type": "code",
   "execution_count": 3,
   "id": "9acba08f-d1f1-45e2-9d9f-043fa430bdbf",
   "metadata": {
    "papermill": {
     "duration": 0.798879,
     "end_time": "2023-02-17T09:37:52.854728",
     "exception": false,
     "start_time": "2023-02-17T09:37:52.055849",
     "status": "completed"
    },
    "tags": []
   },
   "outputs": [],
   "source": [
    "import numpy as np # linear algebra\n",
    "import pandas as pd # data processing, CSV file I/O (e.g. pd.read_csv)\n",
    "import matplotlib.pyplot as plt\n",
    "from IPython import display"
   ]
  },
  {
   "cell_type": "code",
   "execution_count": 4,
   "id": "69f82c0f-e376-4145-8d3a-28ff0fc0115c",
   "metadata": {
    "papermill": {
     "duration": 2.165708,
     "end_time": "2023-02-17T09:37:55.024622",
     "exception": false,
     "start_time": "2023-02-17T09:37:52.858914",
     "status": "completed"
    },
    "tags": []
   },
   "outputs": [],
   "source": [
    "import boto3\n",
    "import os\n",
    "\n",
    "key_id = os.environ.get(\"AWS_ACCESS_KEY_ID\")\n",
    "secret_key = os.environ.get(\"AWS_SECRET_ACCESS_KEY\")\n",
    "bucket_name = os.environ.get(\"AWS_S3_BUCKET\")\n",
    "s3_endpoint = os.environ.get(\"AWS_S3_ENDPOINT\")\n",
    "\n",
    "s3_client = boto3.client(\"s3\", aws_access_key_id=key_id, aws_secret_access_key=secret_key, endpoint_url=s3_endpoint)"
   ]
  },
  {
   "cell_type": "code",
   "execution_count": 5,
   "id": "32684e0e-f91c-423a-8b1b-8cb336f7bb8c",
   "metadata": {
    "papermill": {
     "duration": 0.29138,
     "end_time": "2023-02-17T09:37:55.320191",
     "exception": true,
     "start_time": "2023-02-17T09:37:55.028811",
     "status": "failed"
    },
    "tags": []
   },
   "outputs": [],
   "source": [
    "s3_client.download_file(bucket_name, \"train.csv\", \"./data/train.csv\")\n",
    "s3_client.download_file(bucket_name, \"test.csv\", \"./data/test.csv\")"
   ]
  },
  {
   "cell_type": "code",
   "execution_count": 6,
   "id": "9dd54d36-3897-4392-8e8e-59d2cdf620b7",
   "metadata": {
    "papermill": {
     "duration": null,
     "end_time": null,
     "exception": null,
     "start_time": null,
     "status": "pending"
    },
    "tags": []
   },
   "outputs": [],
   "source": [
    "train_data = np.loadtxt('./data/train.csv', delimiter=',', skiprows=1)\n",
    "test_data = np.loadtxt('./data/test.csv', delimiter=',', skiprows=1)"
   ]
  },
  {
   "cell_type": "code",
   "execution_count": 7,
   "id": "10175f9a-3239-43e2-b81e-d6a6bfb7710d",
   "metadata": {
    "papermill": {
     "duration": null,
     "end_time": null,
     "exception": null,
     "start_time": null,
     "status": "pending"
    },
    "tags": []
   },
   "outputs": [
    {
     "name": "stdout",
     "output_type": "stream",
     "text": [
      "Train Shape: (42000, 785)\n",
      "Test Shape: (28000, 784)\n"
     ]
    }
   ],
   "source": [
    "print(\"Train Shape:\", train_data.shape)\n",
    "print(\"Test Shape:\", test_data.shape)"
   ]
  },
  {
   "cell_type": "code",
   "execution_count": 8,
   "id": "193d6ba4-2aef-4d3d-a217-3ede0fdadcc9",
   "metadata": {
    "papermill": {
     "duration": null,
     "end_time": null,
     "exception": null,
     "start_time": null,
     "status": "pending"
    },
    "tags": []
   },
   "outputs": [
    {
     "data": {
      "text/plain": [
       "255.0"
      ]
     },
     "execution_count": 8,
     "metadata": {},
     "output_type": "execute_result"
    }
   ],
   "source": [
    "train_data[0].max()"
   ]
  },
  {
   "cell_type": "code",
   "execution_count": 9,
   "id": "689a047b-0bde-4687-a07b-fcc6c81c15e8",
   "metadata": {
    "papermill": {
     "duration": null,
     "end_time": null,
     "exception": null,
     "start_time": null,
     "status": "pending"
    },
    "tags": []
   },
   "outputs": [
    {
     "data": {
      "text/plain": [
       "(42000, 784)"
      ]
     },
     "execution_count": 9,
     "metadata": {},
     "output_type": "execute_result"
    }
   ],
   "source": [
    "train_data[:, 1:].shape"
   ]
  },
  {
   "cell_type": "markdown",
   "id": "375aa6c9-fc13-4b48-a685-7d6cb0c2865f",
   "metadata": {
    "papermill": {
     "duration": null,
     "end_time": null,
     "exception": null,
     "start_time": null,
     "status": "pending"
    },
    "tags": []
   },
   "source": [
    "## Split training and validation data"
   ]
  },
  {
   "cell_type": "code",
   "execution_count": 10,
   "id": "17ce83db-5758-4998-bbab-7d23c8f3fa70",
   "metadata": {
    "papermill": {
     "duration": null,
     "end_time": null,
     "exception": null,
     "start_time": null,
     "status": "pending"
    },
    "tags": []
   },
   "outputs": [],
   "source": [
    "x_train = train_data[:, 1:]\n",
    "y_train = train_data[:, 0]\n",
    "x_test = test_data"
   ]
  },
  {
   "cell_type": "code",
   "execution_count": 11,
   "id": "c9a89d3f-e9db-4d27-b150-fddc028a6292",
   "metadata": {
    "papermill": {
     "duration": null,
     "end_time": null,
     "exception": null,
     "start_time": null,
     "status": "pending"
    },
    "tags": []
   },
   "outputs": [
    {
     "name": "stdout",
     "output_type": "stream",
     "text": [
      "(42000, 784)\n",
      "(42000,)\n",
      "(28000, 784)\n"
     ]
    }
   ],
   "source": [
    "print(x_train.shape)\n",
    "print(y_train.shape)\n",
    "print(x_test.shape)"
   ]
  },
  {
   "cell_type": "code",
   "execution_count": 12,
   "id": "72f02b1c-d41e-4b96-9da6-865be1f8a8f3",
   "metadata": {
    "papermill": {
     "duration": null,
     "end_time": null,
     "exception": null,
     "start_time": null,
     "status": "pending"
    },
    "tags": []
   },
   "outputs": [
    {
     "data": {
      "image/png": "[encoded data removed]",
      "text/plain": [
       "<Figure size 300x300 with 1 Axes>"
      ]
     },
     "metadata": {},
     "output_type": "display_data"
    },
    {
     "data": {
      "text/plain": [
       "<Figure size 640x480 with 0 Axes>"
      ]
     },
     "metadata": {},
     "output_type": "display_data"
    }
   ],
   "source": [
    "fig, ax = plt.subplots(figsize=(3, 3))\n",
    "for n in range(0, x_train.shape[0], 1000):\n",
    "    Image = x_train[n,:].reshape(28,28)\n",
    "    ax.imshow(Image, cmap='gray')\n",
    "    ax.set_title('label display: ' + str(int(y_train[n])), fontsize=16)\n",
    "    ax.axis('off')\n",
    "    plt.draw()\n",
    "    display.clear_output(wait=True)\n",
    "    display.display(fig)\n",
    "    plt.pause(0.5)"
   ]
  },
  {
   "cell_type": "code",
   "execution_count": 13,
   "id": "05a5335d-ce24-4a5e-9e6e-cb4fa050afe5",
   "metadata": {
    "papermill": {
     "duration": null,
     "end_time": null,
     "exception": null,
     "start_time": null,
     "status": "pending"
    },
    "tags": []
   },
   "outputs": [],
   "source": [
    "from sklearn.model_selection import train_test_split\n",
    "x_train, x_val, y_train, y_val = train_test_split(x_train, y_train, test_size=0.1, random_state=0)"
   ]
  },
  {
   "cell_type": "code",
   "execution_count": 14,
   "id": "e0007f3b-7e76-4cca-b5c1-f1bf18fa9b5f",
   "metadata": {
    "papermill": {
     "duration": null,
     "end_time": null,
     "exception": null,
     "start_time": null,
     "status": "pending"
    },
    "tags": []
   },
   "outputs": [
    {
     "name": "stdout",
     "output_type": "stream",
     "text": [
      "x_train: (37800, 784)\n",
      "y_train: (37800,)\n",
      "x_val: (4200, 784)\n",
      "y_val: (4200,)\n",
      "x_test: (28000, 784)\n"
     ]
    }
   ],
   "source": [
    "print('x_train:', x_train.shape)\n",
    "print('y_train:', y_train.shape)\n",
    "print('x_val:', x_val.shape)\n",
    "print('y_val:', y_val.shape)\n",
    "print('x_test:', x_test.shape)"
   ]
  },
  {
   "cell_type": "code",
   "execution_count": 15,
   "id": "2daf3d6d-7958-4aa0-bc1c-95917de3badd",
   "metadata": {
    "papermill": {
     "duration": null,
     "end_time": null,
     "exception": null,
     "start_time": null,
     "status": "pending"
    },
    "tags": []
   },
   "outputs": [
    {
     "data": {
      "text/plain": [
       "255.0"
      ]
     },
     "execution_count": 15,
     "metadata": {},
     "output_type": "execute_result"
    }
   ],
   "source": [
    "x_train[0].max()"
   ]
  },
  {
   "cell_type": "markdown",
   "id": "f17c27ee-cfe8-436d-9462-6a9e71dcf30d",
   "metadata": {
    "papermill": {
     "duration": null,
     "end_time": null,
     "exception": null,
     "start_time": null,
     "status": "pending"
    },
    "tags": []
   },
   "source": [
    "## Normalization and change type"
   ]
  },
  {
   "cell_type": "code",
   "execution_count": 16,
   "id": "9dce110c-1027-4ce1-aa19-347f79b71b01",
   "metadata": {
    "papermill": {
     "duration": null,
     "end_time": null,
     "exception": null,
     "start_time": null,
     "status": "pending"
    },
    "tags": []
   },
   "outputs": [],
   "source": [
    "#normalization (from the maximum)\n",
    "x_train /= 255\n",
    "x_val /= 255\n",
    "x_test /= 255\n",
    "\n",
    "#change type\n",
    "x_train = x_train.astype('float32')\n",
    "x_test = x_test.astype('float32')"
   ]
  },
  {
   "cell_type": "code",
   "execution_count": 17,
   "id": "5b23cbc9-32aa-4d4e-aab3-65919050cfa9",
   "metadata": {
    "papermill": {
     "duration": null,
     "end_time": null,
     "exception": null,
     "start_time": null,
     "status": "pending"
    },
    "tags": []
   },
   "outputs": [
    {
     "name": "stdout",
     "output_type": "stream",
     "text": [
      "check the answer 2.0\n"
     ]
    },
    {
     "data": {
      "image/png": "[encoded data removed]",
      "text/plain": [
       "<Figure size 640x480 with 1 Axes>"
      ]
     },
     "metadata": {},
     "output_type": "display_data"
    }
   ],
   "source": [
    "#show the image(x_train) and key answer (y_train)\n",
    "plt.imshow(x_train[0].reshape(28,28), cmap='gray')\n",
    "print(\"check the answer\", y_train[0])"
   ]
  },
  {
   "cell_type": "code",
   "execution_count": 18,
   "id": "e042d821-cd96-4b55-bd08-eed8ade749cb",
   "metadata": {
    "papermill": {
     "duration": null,
     "end_time": null,
     "exception": null,
     "start_time": null,
     "status": "pending"
    },
    "tags": []
   },
   "outputs": [],
   "source": [
    "np.save('./cleaned/x_train.npy', x_train)\n",
    "np.save('./cleaned/x_test.npy', x_test)\n",
    "np.save('./cleaned/x_val.npy', x_val)\n",
    "np.save('./cleaned/y_train.npy', y_train)\n",
    "np.save('./cleaned/y_val.npy', y_val)"
   ]
  },
  {
   "cell_type": "code",
   "execution_count": 19,
   "id": "57211d0c-89ca-49e4-b008-f0438a5ac73b",
   "metadata": {
    "papermill": {
     "duration": null,
     "end_time": null,
     "exception": null,
     "start_time": null,
     "status": "pending"
    },
    "tags": []
   },
   "outputs": [],
   "source": [
    "s3_client.upload_file('./cleaned/x_train.npy', bucket_name, \"/cleaned/x_train.npy\")\n",
    "s3_client.upload_file('./cleaned/x_test.npy', bucket_name, \"/cleaned/x_test.npy\")\n",
    "s3_client.upload_file('./cleaned/x_val.npy', bucket_name, \"/cleaned/x_val.npy\")\n",
    "s3_client.upload_file('./cleaned/y_train.npy', bucket_name, \"/cleaned/y_train.npy\")\n",
    "s3_client.upload_file('./cleaned/y_val.npy', bucket_name, \"/cleaned/y_val.npy\")"
   ]
  },
  {
   "cell_type": "code",
   "execution_count": 20,
   "id": "d62a1f41-4f20-4c36-820c-d7f1f76232f6",
   "metadata": {
    "papermill": {
     "duration": null,
     "end_time": null,
     "exception": null,
     "start_time": null,
     "status": "pending"
    },
    "tags": []
   },
   "outputs": [],
   "source": [
    "!rm -rf data\n",
    "!rm -rf cleaned"
   ]
  }
 ],
 "metadata": {
  "kernelspec": {
   "display_name": "Python 3.9.14",
   "language": "python",
   "name": "python3"
  },
  "language_info": {
   "codemirror_mode": {
    "name": "ipython",
    "version": 3
   },
   "file_extension": ".py",
   "mimetype": "text/x-python",
   "name": "python",
   "nbconvert_exporter": "python",
   "pygments_lexer": "ipython3",
   "version": "3.9.14"
  },
  "papermill": {
   "default_parameters": {},
   "duration": 9.054916,
   "end_time": "2023-02-17T09:37:55.640874",
   "environment_variables": {},
   "exception": true,
   "input_path": "/opt/app-root/src/rhods-mnist/ingest.ipynb",
   "output_path": "/opt/app-root/src/rhods-mnist/ingest.ipynb",
   "parameters": {},
   "start_time": "2023-02-17T09:37:46.585958",
   "version": "2.4.0"
  }
 },
 "nbformat": 4,
 "nbformat_minor": 5
}
