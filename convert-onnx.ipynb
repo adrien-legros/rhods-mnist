{
 "cells": [
  {
   "cell_type": "code",
   "execution_count": null,
   "id": "78bc9450-cc0c-4f55-9cee-a54f23efa3a9",
   "metadata": {},
   "outputs": [],
   "source": [
    "import boto3\n",
    "from boto3 import session\n",
    "\n",
    "key_id = \"myaccess\"\n",
    "secret_key = \"admin123!\"\n",
    "minio_url=\"http://minio.ml-minio.svc.cluster.local:9000\"\n",
    "\n",
    "session = boto3.session.Session(aws_access_key_id=key_id, aws_secret_access_key=secret_key)\n",
    "s3_client = boto3.client(\"s3\", aws_access_key_id=key_id, aws_secret_access_key=secret_key, endpoint_url=minio_url)"
   ]
  },
  {
   "cell_type": "code",
   "execution_count": null,
   "id": "b1806c5a-2699-4c6d-85c4-3905a22ce2d8",
   "metadata": {},
   "outputs": [],
   "source": [
    "! mkdir model\n",
    "s3_client.download_file(\"model\", \"MLP_Keras_e19.h5\", './model/model.h5')"
   ]
  },
  {
   "cell_type": "code",
   "execution_count": null,
   "id": "81b34998-bef6-462e-bf84-249280d8428b",
   "metadata": {},
   "outputs": [],
   "source": [
    "!pip install tf2onnx\n",
    "!python -m tf2onnx.convert --saved-model ./model --output ./model/model.onnx --opset 13"
   ]
  },
  {
   "cell_type": "code",
   "execution_count": 11,
   "id": "dc7023d0-9a97-4e9e-ba92-94fcaa825639",
   "metadata": {},
   "outputs": [],
   "source": [
    "s3_client.upload_file(\"./onnx/model.onnx\", \"onnx\", \"model.onnx\")\n"
   ]
  },
  {
   "cell_type": "code",
   "execution_count": null,
   "id": "3ae13fed-8a98-40d5-82eb-6c57ad2310a1",
   "metadata": {},
   "outputs": [],
   "source": [
    "import os\n",
    "import shutil\n",
    "import tensorflow as tf\n",
    "def save_model_to_saved_model(sess, input_tensor, output_tensor):\n",
    "    from tensorflow.saved_model import simple_save\n",
    "    save_path = r\"./output/saved_model\"\n",
    "    if os.path.exists(save_path):\n",
    "        shutil.rmtree(save_path)\n",
    "    simple_save(sess, save_path, {input_tensor.name: input_tensor}, {output_tensor.name: output_tensor})\n",
    "\n",
    "print(\"please wait for a while, because the script will train MNIST from scratch\")\n",
    "tf.reset_default_graph()\n",
    "sess_tf, saver, input_tensor, output_tensor = create_and_train_mnist()\n",
    "print(\"save tensorflow in format \\\"saved_model\\\"\")\n",
    "save_model_to_saved_model(sess_tf, input_tensor, output_tensor)"
   ]
  }
 ],
 "metadata": {
  "kernelspec": {
   "display_name": "Python 3.9.14",
   "language": "python",
   "name": "python3"
  },
  "language_info": {
   "codemirror_mode": {
    "name": "ipython",
    "version": 3
   },
   "file_extension": ".py",
   "mimetype": "text/x-python",
   "name": "python",
   "nbconvert_exporter": "python",
   "pygments_lexer": "ipython3",
   "version": "3.9.14"
  }
 },
 "nbformat": 4,
 "nbformat_minor": 5
}
